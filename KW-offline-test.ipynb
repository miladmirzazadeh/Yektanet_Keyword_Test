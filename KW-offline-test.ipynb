{
 "cells": [
  {
   "cell_type": "code",
   "execution_count": 1,
   "id": "b1cc99e4-363d-4fa5-934e-632c9a5112b8",
   "metadata": {},
   "outputs": [],
   "source": [
    "from pyspark.sql.functions import concat, col, lit"
   ]
  },
  {
   "cell_type": "code",
   "execution_count": 2,
   "id": "46234a3a-7cad-403a-8372-1d5961ce68be",
   "metadata": {},
   "outputs": [],
   "source": [
    "import pandas as pd\n",
    "import seaborn as sns\n",
    "from datetime import datetime, timezone\n",
    "import os\n",
    "import matplotlib.pyplot as plt\n",
    "# os.environ['PYSPARK_PYTHON'] = os.environ['PYSPARK_DRIVER_PYTHON'] = '/usr/bin/python3'"
   ]
  },
  {
   "cell_type": "code",
   "execution_count": 7,
   "id": "8c33e1f9-2725-4ca1-b590-21e5b10374f6",
   "metadata": {},
   "outputs": [],
   "source": [
    "os.environ['PYSPARK_PYTHON'] = os.environ['PYSPARK_DRIVER_PYTHON'] = '/opt/conda/bin/python'"
   ]
  },
  {
   "cell_type": "code",
   "execution_count": null,
   "id": "d3b7a50e-7fd1-401d-a1ba-61961776f1a1",
   "metadata": {},
   "outputs": [],
   "source": [
    "!export PYSPARK_DRIVER_PYTHON=/opt/conda/bin/python\n",
    "!export PYSPARK_PYTHON=/opt/conda/bin/python"
   ]
  },
  {
   "cell_type": "code",
   "execution_count": 3,
   "id": "600d4f76-ac37-43bc-8339-00176848a543",
   "metadata": {},
   "outputs": [
    {
     "name": "stdout",
     "output_type": "stream",
     "text": [
      "Spark Version: 3.1.1\n",
      "PySpark Version: 3.1.2\n"
     ]
    }
   ],
   "source": [
    "import os\n",
    "import pyspark\n",
    "from pyspark.sql import SQLContext, SparkSession\n",
    "import socket\n",
    "from pyspark.sql import functions as F\n",
    "\n",
    "\n",
    "os.environ[\"HADOOP_USER_NAME\"] = \"hdfs\"\n",
    "PACKAGES = [\n",
    "]\n",
    "\n",
    "sc = SparkSession \\\n",
    "    .builder \\\n",
    "    .master('k8s://https://kubernetes.default.svc') \\\n",
    "    .appName(\"sinah_sequentialrulemining\") \\\n",
    "    .config(\"spark.kubernetes.container.image.pullSecrets\", \"docker.yektanet.tech\") \\\n",
    "    .config(\"spark.kubernetes.container.image\", \"docker.yektanet.tech/data-infra/jupyterlab/spark-executer:latest\") \\\n",
    "    .config(\"spark.kubernetes.namespace\", \"jupyter\") \\\n",
    "    .config(\"spark.driver.host\", f\"{socket.gethostname()}.notebooks\") \\\n",
    "    .config(\"spark.kubernetes.executor.request.cores\", \"3\") \\\n",
    "    .config(\"spark.kubernetes.executor.limit.cores\", \"6\") \\\n",
    "    .config(\"spark.executor.memory\", \"4g\") \\\n",
    "    .config(\"spark.executor.instances\", \"2\") \\\n",
    "    .config(\"spark.kubernetes.driver.pod.name\", socket.gethostname()) \\\n",
    "    .config(\"spark.jars.packages\", \",\".join(PACKAGES)) \\\n",
    "    .config(\"spark.shuffle.compress\", \"true\") \\\n",
    "    .config(\"spark.io.compression.codec\", \"snappy\") \\\n",
    "    .config(\"spark.hadoop.mapreduce.fileoutputcommitter.algorithm.version\", \"2\") \\\n",
    "    .config(\"spark.hadoop.mapreduce.fileoutputcommitter.cleanup-failures.ignored\", \"true\") \\\n",
    "    .config(\"spark.hadoop.parquet.enable.summary-metadata\", \"false\") \\\n",
    "    .config(\"spark.sql.parquet.mergeSchema\", \"false\") \\\n",
    "    .config(\"spark.sql.parquet.filterPushdown\", \"true\") \\\n",
    "    .config(\"spark.sql.hive.metastorePartitionPruning\", \"true\") \\\n",
    "    .config(\"spark.sql.orc.filterPushdown\", \"true\") \\\n",
    "    .config(\"spark.sql.orc.splits.include.file.footer\", \"true\") \\\n",
    "    .config(\"spark.sql.orc.cache.stripe.details.size\", \"10000\") \\\n",
    "    .config(\"spark.sql.hive.metastorePartitionPruning\", \"true\") \\\n",
    "    .getOrCreate()\n",
    "    \n",
    "sqlContext = SQLContext(sparkContext=sc.sparkContext, sparkSession=sc)\n",
    "print(\"Spark Version: \" + sc.version)\n",
    "print(\"PySpark Version: \" + pyspark.__version__)"
   ]
  },
  {
   "cell_type": "markdown",
   "id": "4ecf6aa5-5adb-4bf0-8a5c-2bd6c06f0415",
   "metadata": {},
   "source": [
    "## Campaign Data"
   ]
  },
  {
   "cell_type": "code",
   "execution_count": 9,
   "id": "67975aa0-4e2f-4a7a-9536-bb11c02d4fc0",
   "metadata": {},
   "outputs": [],
   "source": [
    "campaign_id_df = pd.read_csv('campaign-id.csv')"
   ]
  },
  {
   "cell_type": "code",
   "execution_count": 10,
   "id": "98b81051-dfe1-4fb1-bbbd-d33e83efe6b5",
   "metadata": {},
   "outputs": [],
   "source": [
    "campaign_kw_df = pd.read_csv('campaign-kw.csv')\n",
    "kw_id_df = pd.read_csv('kw-id.csv')"
   ]
  },
  {
   "cell_type": "code",
   "execution_count": 11,
   "id": "e9262ca4-2cb8-40ac-a52a-a2e027ea84d9",
   "metadata": {},
   "outputs": [
    {
     "data": {
      "text/html": [
       "<div>\n",
       "<style scoped>\n",
       "    .dataframe tbody tr th:only-of-type {\n",
       "        vertical-align: middle;\n",
       "    }\n",
       "\n",
       "    .dataframe tbody tr th {\n",
       "        vertical-align: top;\n",
       "    }\n",
       "\n",
       "    .dataframe thead th {\n",
       "        text-align: right;\n",
       "    }\n",
       "</style>\n",
       "<table border=\"1\" class=\"dataframe\">\n",
       "  <thead>\n",
       "    <tr style=\"text-align: right;\">\n",
       "      <th></th>\n",
       "      <th>ID</th>\n",
       "      <th>Keyword</th>\n",
       "    </tr>\n",
       "  </thead>\n",
       "  <tbody>\n",
       "    <tr>\n",
       "      <th>0</th>\n",
       "      <td>1</td>\n",
       "      <td>قرنطینه</td>\n",
       "    </tr>\n",
       "    <tr>\n",
       "      <th>1</th>\n",
       "      <td>2</td>\n",
       "      <td>فرهاد مجیدی</td>\n",
       "    </tr>\n",
       "    <tr>\n",
       "      <th>2</th>\n",
       "      <td>3</td>\n",
       "      <td>ویروس کرونای</td>\n",
       "    </tr>\n",
       "    <tr>\n",
       "      <th>3</th>\n",
       "      <td>4</td>\n",
       "      <td>پرسپولیس</td>\n",
       "    </tr>\n",
       "    <tr>\n",
       "      <th>4</th>\n",
       "      <td>5</td>\n",
       "      <td>ویروس کرونا</td>\n",
       "    </tr>\n",
       "  </tbody>\n",
       "</table>\n",
       "</div>"
      ],
      "text/plain": [
       "   ID       Keyword\n",
       "0   1       قرنطینه\n",
       "1   2   فرهاد مجیدی\n",
       "2   3  ویروس کرونای\n",
       "3   4      پرسپولیس\n",
       "4   5   ویروس کرونا"
      ]
     },
     "execution_count": 11,
     "metadata": {},
     "output_type": "execute_result"
    }
   ],
   "source": [
    "kw_id_df.head()"
   ]
  },
  {
   "cell_type": "code",
   "execution_count": 12,
   "id": "04d1b2c4-55dc-4ea3-a71d-497d6a2687f7",
   "metadata": {},
   "outputs": [
    {
     "data": {
      "text/html": [
       "<div>\n",
       "<style scoped>\n",
       "    .dataframe tbody tr th:only-of-type {\n",
       "        vertical-align: middle;\n",
       "    }\n",
       "\n",
       "    .dataframe tbody tr th {\n",
       "        vertical-align: top;\n",
       "    }\n",
       "\n",
       "    .dataframe thead th {\n",
       "        text-align: right;\n",
       "    }\n",
       "</style>\n",
       "<table border=\"1\" class=\"dataframe\">\n",
       "  <thead>\n",
       "    <tr style=\"text-align: right;\">\n",
       "      <th></th>\n",
       "      <th>Campaign ID</th>\n",
       "      <th>Keyword ID</th>\n",
       "    </tr>\n",
       "  </thead>\n",
       "  <tbody>\n",
       "    <tr>\n",
       "      <th>0</th>\n",
       "      <td>55707</td>\n",
       "      <td>4640</td>\n",
       "    </tr>\n",
       "    <tr>\n",
       "      <th>1</th>\n",
       "      <td>54487</td>\n",
       "      <td>789</td>\n",
       "    </tr>\n",
       "    <tr>\n",
       "      <th>2</th>\n",
       "      <td>55707</td>\n",
       "      <td>4737</td>\n",
       "    </tr>\n",
       "    <tr>\n",
       "      <th>3</th>\n",
       "      <td>55707</td>\n",
       "      <td>4802</td>\n",
       "    </tr>\n",
       "    <tr>\n",
       "      <th>4</th>\n",
       "      <td>55923</td>\n",
       "      <td>5089</td>\n",
       "    </tr>\n",
       "    <tr>\n",
       "      <th>...</th>\n",
       "      <td>...</td>\n",
       "      <td>...</td>\n",
       "    </tr>\n",
       "    <tr>\n",
       "      <th>116129</th>\n",
       "      <td>68138</td>\n",
       "      <td>20</td>\n",
       "    </tr>\n",
       "    <tr>\n",
       "      <th>116130</th>\n",
       "      <td>68138</td>\n",
       "      <td>277</td>\n",
       "    </tr>\n",
       "    <tr>\n",
       "      <th>116131</th>\n",
       "      <td>68138</td>\n",
       "      <td>4631</td>\n",
       "    </tr>\n",
       "    <tr>\n",
       "      <th>116132</th>\n",
       "      <td>68138</td>\n",
       "      <td>23</td>\n",
       "    </tr>\n",
       "    <tr>\n",
       "      <th>116133</th>\n",
       "      <td>68138</td>\n",
       "      <td>1306</td>\n",
       "    </tr>\n",
       "  </tbody>\n",
       "</table>\n",
       "<p>116134 rows × 2 columns</p>\n",
       "</div>"
      ],
      "text/plain": [
       "        Campaign ID  Keyword ID\n",
       "0             55707        4640\n",
       "1             54487         789\n",
       "2             55707        4737\n",
       "3             55707        4802\n",
       "4             55923        5089\n",
       "...             ...         ...\n",
       "116129        68138          20\n",
       "116130        68138         277\n",
       "116131        68138        4631\n",
       "116132        68138          23\n",
       "116133        68138        1306\n",
       "\n",
       "[116134 rows x 2 columns]"
      ]
     },
     "execution_count": 12,
     "metadata": {},
     "output_type": "execute_result"
    }
   ],
   "source": [
    "campaign_kw_df.drop([\"ID\"], axis=1)"
   ]
  },
  {
   "cell_type": "code",
   "execution_count": 13,
   "id": "a6ad5f35-5636-4248-9171-a02553a9dab0",
   "metadata": {},
   "outputs": [],
   "source": [
    "campaign_kw_merged = pd.merge(campaign_kw_df.drop([\"ID\"], axis=1), kw_id_df, how=\"left\", left_on=\"Keyword ID\", right_on=\"ID\")\n"
   ]
  },
  {
   "cell_type": "code",
   "execution_count": 9,
   "id": "340381d5-6686-48c3-89f2-7b1bb5ac3d2a",
   "metadata": {},
   "outputs": [],
   "source": [
    "campaign_kw_merged.drop(['ID'], axis=1, inplace=True)"
   ]
  },
  {
   "cell_type": "code",
   "execution_count": 10,
   "id": "b4e3809e-6015-4872-99b4-5e11d6c8345f",
   "metadata": {},
   "outputs": [],
   "source": [
    "campaign_kw_agg = campaign_kw_merged.groupby('Campaign ID')['Keyword'].apply(list).reset_index(name='KWs')"
   ]
  },
  {
   "cell_type": "code",
   "execution_count": 11,
   "id": "d7136203-2102-4e31-8d0e-e664ff4375bf",
   "metadata": {},
   "outputs": [],
   "source": [
    "campaign_kw_agg = pd.merge(campaign_kw_agg, campaign_id_df.loc[:,['Campaign ID', 'Created At']], how='left', on=['Campaign ID'])"
   ]
  },
  {
   "cell_type": "code",
   "execution_count": 12,
   "id": "59f34193-4502-43a3-ac38-3b3ac4726da1",
   "metadata": {},
   "outputs": [],
   "source": [
    "# campaign_kw_agg = campaign_kw_agg[campaign_kw_agg[\"Created At\"]> datetime()]\n",
    "\n"
   ]
  },
  {
   "cell_type": "code",
   "execution_count": 13,
   "id": "df6fe0e5-c8e6-49c3-94e1-04521cd28fec",
   "metadata": {},
   "outputs": [
    {
     "data": {
      "text/html": [
       "<div>\n",
       "<style scoped>\n",
       "    .dataframe tbody tr th:only-of-type {\n",
       "        vertical-align: middle;\n",
       "    }\n",
       "\n",
       "    .dataframe tbody tr th {\n",
       "        vertical-align: top;\n",
       "    }\n",
       "\n",
       "    .dataframe thead th {\n",
       "        text-align: right;\n",
       "    }\n",
       "</style>\n",
       "<table border=\"1\" class=\"dataframe\">\n",
       "  <thead>\n",
       "    <tr style=\"text-align: right;\">\n",
       "      <th></th>\n",
       "      <th>Campaign ID</th>\n",
       "      <th>KWs</th>\n",
       "      <th>Created At</th>\n",
       "    </tr>\n",
       "  </thead>\n",
       "  <tbody>\n",
       "    <tr>\n",
       "      <th>0</th>\n",
       "      <td>45153</td>\n",
       "      <td>[ترکیه, آلمان, بازار, کانادا, کسب و کار, مهاجر...</td>\n",
       "      <td>NaN</td>\n",
       "    </tr>\n",
       "    <tr>\n",
       "      <th>1</th>\n",
       "      <td>45912</td>\n",
       "      <td>[معاملات, سهام, آموزش بورس, بورس, سیگنال خرید,...</td>\n",
       "      <td>NaN</td>\n",
       "    </tr>\n",
       "    <tr>\n",
       "      <th>2</th>\n",
       "      <td>46885</td>\n",
       "      <td>[عید نوروز, کاردستی, اوقات فراقت, عروسک, سرگرم...</td>\n",
       "      <td>2020-05-07T19:14:44.633934+04:30</td>\n",
       "    </tr>\n",
       "    <tr>\n",
       "      <th>3</th>\n",
       "      <td>48084</td>\n",
       "      <td>[شال, تونیک, بلوز, کیف, مزون, مایو, شلوارکتان,...</td>\n",
       "      <td>2020-05-18T01:14:32.449458+04:30</td>\n",
       "    </tr>\n",
       "    <tr>\n",
       "      <th>4</th>\n",
       "      <td>48125</td>\n",
       "      <td>[آشپز, تابستان, کاردستی, عروسک, کودکانه, یادگی...</td>\n",
       "      <td>2020-05-18T12:33:13.049959+04:30</td>\n",
       "    </tr>\n",
       "  </tbody>\n",
       "</table>\n",
       "</div>"
      ],
      "text/plain": [
       "   Campaign ID                                                KWs  \\\n",
       "0        45153  [ترکیه, آلمان, بازار, کانادا, کسب و کار, مهاجر...   \n",
       "1        45912  [معاملات, سهام, آموزش بورس, بورس, سیگنال خرید,...   \n",
       "2        46885  [عید نوروز, کاردستی, اوقات فراقت, عروسک, سرگرم...   \n",
       "3        48084  [شال, تونیک, بلوز, کیف, مزون, مایو, شلوارکتان,...   \n",
       "4        48125  [آشپز, تابستان, کاردستی, عروسک, کودکانه, یادگی...   \n",
       "\n",
       "                         Created At  \n",
       "0                               NaN  \n",
       "1                               NaN  \n",
       "2  2020-05-07T19:14:44.633934+04:30  \n",
       "3  2020-05-18T01:14:32.449458+04:30  \n",
       "4  2020-05-18T12:33:13.049959+04:30  "
      ]
     },
     "execution_count": 13,
     "metadata": {},
     "output_type": "execute_result"
    }
   ],
   "source": [
    "campaign_kw_agg.head()"
   ]
  },
  {
   "cell_type": "markdown",
   "id": "63af1f30-14b0-4642-b42d-1eae829a7fc0",
   "metadata": {},
   "source": [
    "# semantic"
   ]
  },
  {
   "cell_type": "code",
   "execution_count": null,
   "id": "d74d02be-cdaf-4362-b4ca-0a35bfc0c7cf",
   "metadata": {},
   "outputs": [],
   "source": []
  },
  {
   "cell_type": "code",
   "execution_count": 14,
   "id": "2231d80f-ec5f-4bcd-a52b-3ace7b38ce81",
   "metadata": {},
   "outputs": [],
   "source": [
    "english_stopwords = [\"ourselves\", \"hers\", \"between\", \"yourself\", \"but\", \"again\", \"there\", \"about\", \"once\", \"during\", \"out\", \"very\", \"having\", \"with\", \"they\", \"own\", \"an\", \"be\", \"some\", \"for\", \"do\", \"its\", \"yours\", \"such\", \"into\", \"of\", \"most\", \"itself\", \"other\", \"off\", \"is\", \"s\", \"am\", \"or\", \"who\", \"as\", \"from\", \"him\", \"each\", \"the\", \"themselves\", \"until\", \"below\", \"are\", \"we\", \"these\", \"your\", \"his\", \"through\", \"don\", \"nor\", \"me\", \"were\", \"her\", \"more\", \"himself\", \"this\", \"down\", \"should\", \"our\", \"their\", \"while\", \"above\", \"both\", \"up\", \"to\", \"ours\", \"had\", \"she\", \"all\", \"no\", \"when\", \"at\", \"any\", \"before\", \"them\", \"same\", \"and\", \"been\", \"have\", \"in\", \"will\", \"on\", \"does\", \"yourselves\", \"then\", \"that\", \"because\", \"what\", \"over\", \"why\", \"so\", \"can\", \"did\", \"not\", \"now\", \"under\", \"he\", \"you\", \"herself\", \"has\", \"just\", \"where\", \"too\", \"only\", \"myself\", \"which\", \"those\", \"i\", \"after\", \"few\", \"whom\", \"t\", \"being\", \"if\", \"theirs\", \"my\", \"against\", \"a\", \"by\", \"doing\", \"it\", \"how\", \"further\", \"was\", \"here\", \"than\"]\n",
    "persian_stopwords = [\"و\", \"در\", \"به\", \"از\", \"که\", \"این\", \"را\", \"با\", \"است\", \"برای\", \"آن\", \"یک\", \"خود\", \"تا\", \"کرد\", \"بر\", \"هم\", \"نیز\", \"گفت\", \"می\\u200cشود\", \"وی\", \"شد\", \"دارد\", \"ما\", \"اما\", \"یا\", \"شده\", \"باید\", \"هر\", \"آنها\", \"بود\", \"او\", \"دیگر\", \"دو\", \"مورد\", \"می\\u200cکند\", \"شود\", \"کند\", \"وجود\", \"بین\", \"پیش\", \"شده_است\", \"پس\", \"نظر\", \"اگر\", \"همه\", \"یکی\", \"حال\", \"هستند\", \"من\", \"کنند\", \"نیست\", \"باشد\", \"چه\", \"بی\", \"می\", \"بخش\", \"می\\u200cکنند\", \"همین\", \"افزود\", \"هایی\", \"دارند\", \"راه\", \"همچنین\", \"روی\", \"داد\", \"بیشتر\", \"بسیار\", \"سه\", \"داشت\", \"چند\", \"سوی\", \"تنها\", \"هیچ\", \"میان\", \"اینکه\", \"شدن\", \"بعد\", \"جدید\", \"ولی\", \"حتی\", \"کردن\", \"برخی\", \"کردند\", \"می\\u200cدهد\", \"اول\", \"نه\", \"کرده_است\", \"نسبت\", \"بیش\", \"شما\", \"چنین\", \"طور\", \"افراد\", \"تمام\", \"درباره\", \"بار\", \"بسیاری\", \"می\\u200cتواند\", \"کرده\", \"چون\", \"ندارد\", \"دوم\", \"بزرگ\", \"طی\", \"حدود\", \"همان\", \"بدون\", \"البته\", \"آنان\", \"می\\u200cگوید\", \"دیگری\", \"خواهد_شد\", \"کنیم\", \"قابل\", \"یعنی\", \"رشد\", \"می\\u200cتوان\", \"وارد\", \"کل\", \"ویژه\", \"قبل\", \"براساس\", \"نیاز\", \"گذاری\", \"هنوز\", \"لازم\", \"سازی\", \"بوده_است\", \"چرا\", \"می\\u200cشوند\", \"وقتی\", \"گرفت\", \"کم\", \"جای\", \"حالی\", \"تغییر\", \"پیدا\", \"اکنون\", \"تحت\", \"باعث\", \"مدت\", \"فقط\", \"زیادی\", \"تعداد\", \"آیا\", \"بیان\", \"رو\", \"شدند\", \"عدم\", \"کرده_اند\", \"بودن\", \"نوع\", \"بلکه\", \"جاری\", \"دهد\", \"برابر\", \"مهم\", \"بوده\", \"اخیر\", \"مربوط\", \"امر\", \"زیر\", \"گیری\", \"شاید\", \"خصوص\", \"آقای\", \"اثر\", \"کننده\", \"بودند\", \"فکر\", \"کنار\", \"اولین\", \"سوم\", \"سایر\", \"کنید\", \"ضمن\", \"مانند\", \"باز\", \"می\\u200cگیرد\", \"ممکن\", \"حل\", \"دارای\", \"پی\", \"مثل\", \"می\\u200cرسد\", \"اجرا\", \"دور\", \"منظور\", \"کسی\", \"موجب\", \"طول\", \"امکان\", \"آنچه\", \"تعیین\", \"گفته\", \"شوند\", \"جمع\", \"خیلی\", \"علاوه\", \"گونه\", \"تاکنون\", \"رسید\", \"ساله\", \"گرفته\", \"شده_اند\", \"علت\", \"چهار\", \"داشته_باشد\", \"خواهد_بود\", \"طرف\", \"تهیه\", \"تبدیل\", \"مناسب\", \"زیرا\", \"مشخص\", \"می\\u200cتوانند\", \"نزدیک\", \"جریان\", \"روند\", \"بنابراین\", \"می\\u200cدهند\", \"یافت\", \"نخستین\", \"بالا\", \"پنج\", \"ریزی\", \"عالی\", \"چیزی\", \"نخست\", \"بیشتری\", \"ترتیب\", \"شده_بود\", \"خاص\", \"خوبی\", \"خوب\", \"شروع\", \"فرد\", \"کامل\", \"غیر\", \"می\\u200cرود\", \"دهند\", \"آخرین\", \"دادن\", \"جدی\", \"بهترین\", \"شامل\", \"گیرد\", \"بخشی\", \"باشند\", \"تمامی\", \"بهتر\", \"داده_است\", \"حد\", \"نبود\", \"کسانی\", \"می\\u200cکرد\", \"داریم\", \"علیه\", \"می\\u200cباشد\", \"دانست\", \"ناشی\", \"داشتند\", \"دهه\", \"می\\u200cشد\", \"ایشان\", \"آنجا\", \"گرفته_است\", \"دچار\", \"می\\u200cآید\", \"لحاظ\", \"آنکه\", \"داده\", \"بعضی\", \"هستیم\", \"اند\", \"برداری\", \"نباید\", \"می\\u200cکنیم\", \"نشست\", \"سهم\", \"همیشه\", \"آمد\", \"اش\", \"وگو\", \"می\\u200cکنم\", \"حداقل\", \"طبق\", \"جا\", \"خواهد_کرد\", \"نوعی\", \"چگونه\", \"رفت\", \"هنگام\", \"فوق\", \"روش\", \"ندارند\", \"سعی\", \"بندی\", \"شمار\", \"کلی\", \"کافی\", \"مواجه\", \"همچنان\", \"زیاد\", \"سمت\", \"کوچک\", \"داشته_است\", \"چیز\", \"پشت\", \"آورد\", \"حالا\", \"روبه\", \"سال\\u200cهای\", \"دادند\", \"می\\u200cکردند\", \"عهده\", \"نیمه\", \"جایی\", \"دیگران\", \"سی\", \"بروز\", \"یکدیگر\", \"آمده_است\", \"جز\", \"کنم\", \"سپس\", \"کنندگان\", \"خودش\", \"همواره\", \"یافته\", \"شان\", \"صرف\", \"نمی\\u200cشود\", \"رسیدن\", \"چهارم\", \"یابد\", \"متر\", \"ساز\", \"داشته\", \"کرده_بود\", \"باره\", \"نحوه\", \"کردم\", \"تو\", \"شخصی\", \"داشته_باشند\", \"محسوب\", \"پخش\", \"کمی\", \"متفاوت\", \"سراسر\", \"کاملا\", \"داشتن\", \"نظیر\", \"آمده\", \"گروهی\", \"فردی\", \"ع\", \"همچون\", \"خطر\", \"خویش\", \"کدام\", \"دسته\", \"سبب\", \"عین\", \"آوری\", \"متاسفانه\", \"بیرون\", \"دار\", \"ابتدا\", \"شش\", \"افرادی\", \"می\\u200cگویند\", \"سالهای\", \"درون\", \"نیستند\", \"یافته_است\", \"پر\", \"خاطرنشان\", \"گاه\", \"جمعی\", \"اغلب\", \"دوباره\", \"می\\u200cیابد\", \"لذا\", \"زاده\", \"گردد\", \"اینجا\"]\n",
    "stopwords = set(english_stopwords + persian_stopwords + ['nan', 'NAN', 'Nan', 'None'])"
   ]
  },
  {
   "cell_type": "code",
   "execution_count": 15,
   "id": "21d20b10-193e-4cf2-a1ce-aef32325e93a",
   "metadata": {},
   "outputs": [
    {
     "name": "stderr",
     "output_type": "stream",
     "text": [
      "/opt/conda/lib/python3.9/site-packages/gensim/similarities/__init__.py:15: UserWarning: The gensim.similarities.levenshtein submodule is disabled, because the optional Levenshtein package <https://pypi.org/project/python-Levenshtein/> is unavailable. Install Levenhstein (e.g. `pip install python-Levenshtein`) to suppress this warning.\n",
      "  warnings.warn(msg)\n"
     ]
    }
   ],
   "source": [
    "import gensim\n",
    "from gensim.models import Word2Vec\n",
    "from gensim.models import KeyedVectors\n",
    "import numpy as np\n",
    "\n",
    "w2v_path = '../../qasem/utils/w2v_model/w2v/w2v_model_latest'\n",
    "w2v = gensim.models.KeyedVectors.load(w2v_path)\n",
    "\n",
    "w2v = w2v.wv\n",
    "\n",
    "EMB_DIM = 100\n",
    "\n",
    "from hazm import Normalizer, stopwords_list\n",
    "import re\n",
    "\n",
    "normalizer = Normalizer()\n",
    "\n",
    "def clean_text(text, stopwords=stopwords_list()):\n",
    "    print(\"hi\")\n",
    "    !pip install gensim\n",
    "    !pip install hazm\n",
    "    \n",
    "    from hazm import Normalizer, stopwords_list\n",
    "    import re\n",
    "    import gensim\n",
    "    if text is None:\n",
    "        return None\n",
    "    if type(text) is not str:\n",
    "        return ''\n",
    "    text = re.sub(r\"\\W+|[0-9]|[۰-۹]\", ' ', str(text))\n",
    "    text = normalizer.normalize(text)\n",
    "    text_split = text.split()\n",
    "\n",
    "    text_split = ' '.join([t.lower() for t in text_split\n",
    "                  if (t and t not in stopwords)])\n",
    "    return text_split"
   ]
  },
  {
   "cell_type": "markdown",
   "id": "bfcc28f7-9d28-43d0-834c-aa29a057611f",
   "metadata": {},
   "source": [
    "## url text emb"
   ]
  },
  {
   "cell_type": "code",
   "execution_count": null,
   "id": "a8a3f2c9-55fb-4ad0-bdd8-50b556b2d5a8",
   "metadata": {},
   "outputs": [],
   "source": []
  },
  {
   "cell_type": "code",
   "execution_count": 16,
   "id": "c9ced48c-b885-4141-9f05-ccc1758e2d49",
   "metadata": {},
   "outputs": [],
   "source": [
    "def embed_query(query, query_type='plain_text'):\n",
    "    import gensim\n",
    "    from gensim.models import Word2Vec\n",
    "    from gensim.models import KeyedVectors\n",
    "    import numpy as np\n",
    "\n",
    "    if query is None:\n",
    "        return None\n",
    "    \n",
    "    # LOOK HOW THEY ARE SEPARATED\n",
    "    \n",
    "    if query_type == 'campaign':\n",
    "        pass\n",
    "    else:\n",
    "        query = query.split(' - ')\n",
    "    \n",
    "    query_embedding = np.zeros(EMB_DIM)\n",
    "    for w in query:\n",
    "        w_emb = np.mean([w2v[wo] for wo in w.split() if (wo in w2v.index_to_key)], axis=0)\n",
    "        if not np.isnan(w_emb).any():\n",
    "            query_embedding += w_emb\n",
    "    query_embedding /= len(query)\n",
    "    return query_embedding.tolist()\n",
    "#     return [np.float16(x) for x in query_embedding.tolist()]"
   ]
  },
  {
   "cell_type": "markdown",
   "id": "4184a971-8bed-4fee-aa6a-562bfd6b3cfd",
   "metadata": {},
   "source": [
    "## Campaign Emb"
   ]
  },
  {
   "cell_type": "code",
   "execution_count": 19,
   "id": "0d846b91-d62a-46a1-adc8-eb279f2d2e68",
   "metadata": {
    "collapsed": true,
    "jupyter": {
     "outputs_hidden": true
    },
    "tags": []
   },
   "outputs": [
    {
     "name": "stderr",
     "output_type": "stream",
     "text": [
      "/opt/conda/lib/python3.9/site-packages/numpy/core/fromnumeric.py:3419: RuntimeWarning: Mean of empty slice.\n",
      "  return _methods._mean(a, axis=axis, dtype=dtype,\n"
     ]
    },
    {
     "ename": "KeyboardInterrupt",
     "evalue": "",
     "output_type": "error",
     "traceback": [
      "\u001b[0;31m---------------------------------------------------------------------------\u001b[0m",
      "\u001b[0;31mKeyboardInterrupt\u001b[0m                         Traceback (most recent call last)",
      "\u001b[0;32m<ipython-input-19-c9bbc78d8643>\u001b[0m in \u001b[0;36m<module>\u001b[0;34m\u001b[0m\n\u001b[0;32m----> 1\u001b[0;31m \u001b[0mcampaign_kw_agg\u001b[0m\u001b[0;34m[\u001b[0m\u001b[0;34m'emb'\u001b[0m\u001b[0;34m]\u001b[0m \u001b[0;34m=\u001b[0m \u001b[0mcampaign_kw_agg\u001b[0m\u001b[0;34m.\u001b[0m\u001b[0mKWs\u001b[0m\u001b[0;34m.\u001b[0m\u001b[0mapply\u001b[0m\u001b[0;34m(\u001b[0m\u001b[0membed_query\u001b[0m\u001b[0;34m,\u001b[0m \u001b[0mquery_type\u001b[0m\u001b[0;34m=\u001b[0m\u001b[0;34m'campaign'\u001b[0m\u001b[0;34m)\u001b[0m\u001b[0;34m\u001b[0m\u001b[0;34m\u001b[0m\u001b[0m\n\u001b[0m",
      "\u001b[0;32m/opt/conda/lib/python3.9/site-packages/pandas/core/series.py\u001b[0m in \u001b[0;36mapply\u001b[0;34m(self, func, convert_dtype, args, **kwds)\u001b[0m\n\u001b[1;32m   4136\u001b[0m             \u001b[0;32melse\u001b[0m\u001b[0;34m:\u001b[0m\u001b[0;34m\u001b[0m\u001b[0;34m\u001b[0m\u001b[0m\n\u001b[1;32m   4137\u001b[0m                 \u001b[0mvalues\u001b[0m \u001b[0;34m=\u001b[0m \u001b[0mself\u001b[0m\u001b[0;34m.\u001b[0m\u001b[0mastype\u001b[0m\u001b[0;34m(\u001b[0m\u001b[0mobject\u001b[0m\u001b[0;34m)\u001b[0m\u001b[0;34m.\u001b[0m\u001b[0m_values\u001b[0m\u001b[0;34m\u001b[0m\u001b[0;34m\u001b[0m\u001b[0m\n\u001b[0;32m-> 4138\u001b[0;31m                 \u001b[0mmapped\u001b[0m \u001b[0;34m=\u001b[0m \u001b[0mlib\u001b[0m\u001b[0;34m.\u001b[0m\u001b[0mmap_infer\u001b[0m\u001b[0;34m(\u001b[0m\u001b[0mvalues\u001b[0m\u001b[0;34m,\u001b[0m \u001b[0mf\u001b[0m\u001b[0;34m,\u001b[0m \u001b[0mconvert\u001b[0m\u001b[0;34m=\u001b[0m\u001b[0mconvert_dtype\u001b[0m\u001b[0;34m)\u001b[0m\u001b[0;34m\u001b[0m\u001b[0;34m\u001b[0m\u001b[0m\n\u001b[0m\u001b[1;32m   4139\u001b[0m \u001b[0;34m\u001b[0m\u001b[0m\n\u001b[1;32m   4140\u001b[0m         \u001b[0;32mif\u001b[0m \u001b[0mlen\u001b[0m\u001b[0;34m(\u001b[0m\u001b[0mmapped\u001b[0m\u001b[0;34m)\u001b[0m \u001b[0;32mand\u001b[0m \u001b[0misinstance\u001b[0m\u001b[0;34m(\u001b[0m\u001b[0mmapped\u001b[0m\u001b[0;34m[\u001b[0m\u001b[0;36m0\u001b[0m\u001b[0;34m]\u001b[0m\u001b[0;34m,\u001b[0m \u001b[0mSeries\u001b[0m\u001b[0;34m)\u001b[0m\u001b[0;34m:\u001b[0m\u001b[0;34m\u001b[0m\u001b[0;34m\u001b[0m\u001b[0m\n",
      "\u001b[0;32mpandas/_libs/lib.pyx\u001b[0m in \u001b[0;36mpandas._libs.lib.map_infer\u001b[0;34m()\u001b[0m\n",
      "\u001b[0;32m/opt/conda/lib/python3.9/site-packages/pandas/core/series.py\u001b[0m in \u001b[0;36mf\u001b[0;34m(x)\u001b[0m\n\u001b[1;32m   4121\u001b[0m \u001b[0;34m\u001b[0m\u001b[0m\n\u001b[1;32m   4122\u001b[0m             \u001b[0;32mdef\u001b[0m \u001b[0mf\u001b[0m\u001b[0;34m(\u001b[0m\u001b[0mx\u001b[0m\u001b[0;34m)\u001b[0m\u001b[0;34m:\u001b[0m\u001b[0;34m\u001b[0m\u001b[0;34m\u001b[0m\u001b[0m\n\u001b[0;32m-> 4123\u001b[0;31m                 \u001b[0;32mreturn\u001b[0m \u001b[0mfunc\u001b[0m\u001b[0;34m(\u001b[0m\u001b[0mx\u001b[0m\u001b[0;34m,\u001b[0m \u001b[0;34m*\u001b[0m\u001b[0margs\u001b[0m\u001b[0;34m,\u001b[0m \u001b[0;34m**\u001b[0m\u001b[0mkwds\u001b[0m\u001b[0;34m)\u001b[0m\u001b[0;34m\u001b[0m\u001b[0;34m\u001b[0m\u001b[0m\n\u001b[0m\u001b[1;32m   4124\u001b[0m \u001b[0;34m\u001b[0m\u001b[0m\n\u001b[1;32m   4125\u001b[0m         \u001b[0;32melse\u001b[0m\u001b[0;34m:\u001b[0m\u001b[0;34m\u001b[0m\u001b[0;34m\u001b[0m\u001b[0m\n",
      "\u001b[0;32m<ipython-input-18-16b101a3370b>\u001b[0m in \u001b[0;36membed_query\u001b[0;34m(query, query_type)\u001b[0m\n\u001b[1;32m     17\u001b[0m     \u001b[0mquery_embedding\u001b[0m \u001b[0;34m=\u001b[0m \u001b[0mnp\u001b[0m\u001b[0;34m.\u001b[0m\u001b[0mzeros\u001b[0m\u001b[0;34m(\u001b[0m\u001b[0mEMB_DIM\u001b[0m\u001b[0;34m)\u001b[0m\u001b[0;34m\u001b[0m\u001b[0;34m\u001b[0m\u001b[0m\n\u001b[1;32m     18\u001b[0m     \u001b[0;32mfor\u001b[0m \u001b[0mw\u001b[0m \u001b[0;32min\u001b[0m \u001b[0mquery\u001b[0m\u001b[0;34m:\u001b[0m\u001b[0;34m\u001b[0m\u001b[0;34m\u001b[0m\u001b[0m\n\u001b[0;32m---> 19\u001b[0;31m         \u001b[0mw_emb\u001b[0m \u001b[0;34m=\u001b[0m \u001b[0mnp\u001b[0m\u001b[0;34m.\u001b[0m\u001b[0mmean\u001b[0m\u001b[0;34m(\u001b[0m\u001b[0;34m[\u001b[0m\u001b[0mw2v\u001b[0m\u001b[0;34m[\u001b[0m\u001b[0mwo\u001b[0m\u001b[0;34m]\u001b[0m \u001b[0;32mfor\u001b[0m \u001b[0mwo\u001b[0m \u001b[0;32min\u001b[0m \u001b[0mw\u001b[0m\u001b[0;34m.\u001b[0m\u001b[0msplit\u001b[0m\u001b[0;34m(\u001b[0m\u001b[0;34m)\u001b[0m \u001b[0;32mif\u001b[0m \u001b[0;34m(\u001b[0m\u001b[0mwo\u001b[0m \u001b[0;32min\u001b[0m \u001b[0mw2v\u001b[0m\u001b[0;34m.\u001b[0m\u001b[0mindex_to_key\u001b[0m\u001b[0;34m)\u001b[0m\u001b[0;34m]\u001b[0m\u001b[0;34m,\u001b[0m \u001b[0maxis\u001b[0m\u001b[0;34m=\u001b[0m\u001b[0;36m0\u001b[0m\u001b[0;34m)\u001b[0m\u001b[0;34m\u001b[0m\u001b[0;34m\u001b[0m\u001b[0m\n\u001b[0m\u001b[1;32m     20\u001b[0m         \u001b[0;32mif\u001b[0m \u001b[0;32mnot\u001b[0m \u001b[0mnp\u001b[0m\u001b[0;34m.\u001b[0m\u001b[0misnan\u001b[0m\u001b[0;34m(\u001b[0m\u001b[0mw_emb\u001b[0m\u001b[0;34m)\u001b[0m\u001b[0;34m.\u001b[0m\u001b[0many\u001b[0m\u001b[0;34m(\u001b[0m\u001b[0;34m)\u001b[0m\u001b[0;34m:\u001b[0m\u001b[0;34m\u001b[0m\u001b[0;34m\u001b[0m\u001b[0m\n\u001b[1;32m     21\u001b[0m             \u001b[0mquery_embedding\u001b[0m \u001b[0;34m+=\u001b[0m \u001b[0mw_emb\u001b[0m\u001b[0;34m\u001b[0m\u001b[0;34m\u001b[0m\u001b[0m\n",
      "\u001b[0;32m<ipython-input-18-16b101a3370b>\u001b[0m in \u001b[0;36m<listcomp>\u001b[0;34m(.0)\u001b[0m\n\u001b[1;32m     17\u001b[0m     \u001b[0mquery_embedding\u001b[0m \u001b[0;34m=\u001b[0m \u001b[0mnp\u001b[0m\u001b[0;34m.\u001b[0m\u001b[0mzeros\u001b[0m\u001b[0;34m(\u001b[0m\u001b[0mEMB_DIM\u001b[0m\u001b[0;34m)\u001b[0m\u001b[0;34m\u001b[0m\u001b[0;34m\u001b[0m\u001b[0m\n\u001b[1;32m     18\u001b[0m     \u001b[0;32mfor\u001b[0m \u001b[0mw\u001b[0m \u001b[0;32min\u001b[0m \u001b[0mquery\u001b[0m\u001b[0;34m:\u001b[0m\u001b[0;34m\u001b[0m\u001b[0;34m\u001b[0m\u001b[0m\n\u001b[0;32m---> 19\u001b[0;31m         \u001b[0mw_emb\u001b[0m \u001b[0;34m=\u001b[0m \u001b[0mnp\u001b[0m\u001b[0;34m.\u001b[0m\u001b[0mmean\u001b[0m\u001b[0;34m(\u001b[0m\u001b[0;34m[\u001b[0m\u001b[0mw2v\u001b[0m\u001b[0;34m[\u001b[0m\u001b[0mwo\u001b[0m\u001b[0;34m]\u001b[0m \u001b[0;32mfor\u001b[0m \u001b[0mwo\u001b[0m \u001b[0;32min\u001b[0m \u001b[0mw\u001b[0m\u001b[0;34m.\u001b[0m\u001b[0msplit\u001b[0m\u001b[0;34m(\u001b[0m\u001b[0;34m)\u001b[0m \u001b[0;32mif\u001b[0m \u001b[0;34m(\u001b[0m\u001b[0mwo\u001b[0m \u001b[0;32min\u001b[0m \u001b[0mw2v\u001b[0m\u001b[0;34m.\u001b[0m\u001b[0mindex_to_key\u001b[0m\u001b[0;34m)\u001b[0m\u001b[0;34m]\u001b[0m\u001b[0;34m,\u001b[0m \u001b[0maxis\u001b[0m\u001b[0;34m=\u001b[0m\u001b[0;36m0\u001b[0m\u001b[0;34m)\u001b[0m\u001b[0;34m\u001b[0m\u001b[0;34m\u001b[0m\u001b[0m\n\u001b[0m\u001b[1;32m     20\u001b[0m         \u001b[0;32mif\u001b[0m \u001b[0;32mnot\u001b[0m \u001b[0mnp\u001b[0m\u001b[0;34m.\u001b[0m\u001b[0misnan\u001b[0m\u001b[0;34m(\u001b[0m\u001b[0mw_emb\u001b[0m\u001b[0;34m)\u001b[0m\u001b[0;34m.\u001b[0m\u001b[0many\u001b[0m\u001b[0;34m(\u001b[0m\u001b[0;34m)\u001b[0m\u001b[0;34m:\u001b[0m\u001b[0;34m\u001b[0m\u001b[0;34m\u001b[0m\u001b[0m\n\u001b[1;32m     21\u001b[0m             \u001b[0mquery_embedding\u001b[0m \u001b[0;34m+=\u001b[0m \u001b[0mw_emb\u001b[0m\u001b[0;34m\u001b[0m\u001b[0;34m\u001b[0m\u001b[0m\n",
      "\u001b[0;31mKeyboardInterrupt\u001b[0m: "
     ]
    }
   ],
   "source": [
    "campaign_kw_agg['emb'] = campaign_kw_agg.KWs.apply(embed_query, query_type='campaign')"
   ]
  },
  {
   "cell_type": "code",
   "execution_count": null,
   "id": "7bd00bd4-0664-4a88-99c1-0031f9297045",
   "metadata": {},
   "outputs": [],
   "source": [
    "campaign_kw_agg"
   ]
  },
  {
   "cell_type": "markdown",
   "id": "336a85ae-eaf6-4d42-a585-24427433eddf",
   "metadata": {},
   "source": [
    "# Imp Data"
   ]
  },
  {
   "cell_type": "code",
   "execution_count": null,
   "id": "07ba1514-f6d1-4c1e-ae7c-3da3512b3a73",
   "metadata": {},
   "outputs": [],
   "source": [
    "df_imp = sc.read.parquet('hdfs://hdfs.hdfs/datalake/factimpression/test_04/factimpression/')"
   ]
  },
  {
   "cell_type": "code",
   "execution_count": 5,
   "id": "5dffb33a-bb76-41a0-9c25-5107da84b5c5",
   "metadata": {
    "tags": []
   },
   "outputs": [
    {
     "data": {
      "text/plain": [
       "3455547"
      ]
     },
     "execution_count": 5,
     "metadata": {},
     "output_type": "execute_result"
    }
   ],
   "source": [
    "df_imp.count()"
   ]
  },
  {
   "cell_type": "code",
   "execution_count": 8,
   "id": "8fc80190-be1a-4c33-a0bd-0f33fde2089a",
   "metadata": {},
   "outputs": [],
   "source": [
    "dff = df_imp.sample(fraction=0.01, seed=3)"
   ]
  },
  {
   "cell_type": "code",
   "execution_count": 10,
   "id": "af759226-d684-4726-8207-305cef1dcd3d",
   "metadata": {},
   "outputs": [
    {
     "ename": "KeyboardInterrupt",
     "evalue": "",
     "output_type": "error",
     "traceback": [
      "\u001b[0;31m---------------------------------------------------------------------------\u001b[0m",
      "\u001b[0;31mKeyboardInterrupt\u001b[0m                         Traceback (most recent call last)",
      "\u001b[0;32m<ipython-input-10-465abb67d9b7>\u001b[0m in \u001b[0;36m<module>\u001b[0;34m\u001b[0m\n\u001b[1;32m      1\u001b[0m \u001b[0mdff\u001b[0m\u001b[0;34m.\u001b[0m\u001b[0mcache\u001b[0m\u001b[0;34m(\u001b[0m\u001b[0;34m)\u001b[0m\u001b[0;34m\u001b[0m\u001b[0;34m\u001b[0m\u001b[0m\n\u001b[0;32m----> 2\u001b[0;31m \u001b[0mdff\u001b[0m \u001b[0;34m=\u001b[0m \u001b[0mdff\u001b[0m\u001b[0;34m.\u001b[0m\u001b[0mtoPandas\u001b[0m\u001b[0;34m(\u001b[0m\u001b[0;34m)\u001b[0m\u001b[0;34m\u001b[0m\u001b[0;34m\u001b[0m\u001b[0m\n\u001b[0m",
      "\u001b[0;32m/opt/conda/lib/python3.9/site-packages/pyspark/sql/pandas/conversion.py\u001b[0m in \u001b[0;36mtoPandas\u001b[0;34m(self)\u001b[0m\n\u001b[1;32m    139\u001b[0m \u001b[0;34m\u001b[0m\u001b[0m\n\u001b[1;32m    140\u001b[0m         \u001b[0;31m# Below is toPandas without Arrow optimization.\u001b[0m\u001b[0;34m\u001b[0m\u001b[0;34m\u001b[0m\u001b[0;34m\u001b[0m\u001b[0m\n\u001b[0;32m--> 141\u001b[0;31m         \u001b[0mpdf\u001b[0m \u001b[0;34m=\u001b[0m \u001b[0mpd\u001b[0m\u001b[0;34m.\u001b[0m\u001b[0mDataFrame\u001b[0m\u001b[0;34m.\u001b[0m\u001b[0mfrom_records\u001b[0m\u001b[0;34m(\u001b[0m\u001b[0mself\u001b[0m\u001b[0;34m.\u001b[0m\u001b[0mcollect\u001b[0m\u001b[0;34m(\u001b[0m\u001b[0;34m)\u001b[0m\u001b[0;34m,\u001b[0m \u001b[0mcolumns\u001b[0m\u001b[0;34m=\u001b[0m\u001b[0mself\u001b[0m\u001b[0;34m.\u001b[0m\u001b[0mcolumns\u001b[0m\u001b[0;34m)\u001b[0m\u001b[0;34m\u001b[0m\u001b[0;34m\u001b[0m\u001b[0m\n\u001b[0m\u001b[1;32m    142\u001b[0m         \u001b[0mcolumn_counter\u001b[0m \u001b[0;34m=\u001b[0m \u001b[0mCounter\u001b[0m\u001b[0;34m(\u001b[0m\u001b[0mself\u001b[0m\u001b[0;34m.\u001b[0m\u001b[0mcolumns\u001b[0m\u001b[0;34m)\u001b[0m\u001b[0;34m\u001b[0m\u001b[0;34m\u001b[0m\u001b[0m\n\u001b[1;32m    143\u001b[0m \u001b[0;34m\u001b[0m\u001b[0m\n",
      "\u001b[0;32m/opt/conda/lib/python3.9/site-packages/pyspark/sql/dataframe.py\u001b[0m in \u001b[0;36mcollect\u001b[0;34m(self)\u001b[0m\n\u001b[1;32m    675\u001b[0m         \"\"\"\n\u001b[1;32m    676\u001b[0m         \u001b[0;32mwith\u001b[0m \u001b[0mSCCallSiteSync\u001b[0m\u001b[0;34m(\u001b[0m\u001b[0mself\u001b[0m\u001b[0;34m.\u001b[0m\u001b[0m_sc\u001b[0m\u001b[0;34m)\u001b[0m \u001b[0;32mas\u001b[0m \u001b[0mcss\u001b[0m\u001b[0;34m:\u001b[0m\u001b[0;34m\u001b[0m\u001b[0;34m\u001b[0m\u001b[0m\n\u001b[0;32m--> 677\u001b[0;31m             \u001b[0msock_info\u001b[0m \u001b[0;34m=\u001b[0m \u001b[0mself\u001b[0m\u001b[0;34m.\u001b[0m\u001b[0m_jdf\u001b[0m\u001b[0;34m.\u001b[0m\u001b[0mcollectToPython\u001b[0m\u001b[0;34m(\u001b[0m\u001b[0;34m)\u001b[0m\u001b[0;34m\u001b[0m\u001b[0;34m\u001b[0m\u001b[0m\n\u001b[0m\u001b[1;32m    678\u001b[0m         \u001b[0;32mreturn\u001b[0m \u001b[0mlist\u001b[0m\u001b[0;34m(\u001b[0m\u001b[0m_load_from_socket\u001b[0m\u001b[0;34m(\u001b[0m\u001b[0msock_info\u001b[0m\u001b[0;34m,\u001b[0m \u001b[0mBatchedSerializer\u001b[0m\u001b[0;34m(\u001b[0m\u001b[0mPickleSerializer\u001b[0m\u001b[0;34m(\u001b[0m\u001b[0;34m)\u001b[0m\u001b[0;34m)\u001b[0m\u001b[0;34m)\u001b[0m\u001b[0;34m)\u001b[0m\u001b[0;34m\u001b[0m\u001b[0;34m\u001b[0m\u001b[0m\n\u001b[1;32m    679\u001b[0m \u001b[0;34m\u001b[0m\u001b[0m\n",
      "\u001b[0;32m/opt/conda/lib/python3.9/site-packages/py4j/java_gateway.py\u001b[0m in \u001b[0;36m__call__\u001b[0;34m(self, *args)\u001b[0m\n\u001b[1;32m   1301\u001b[0m             \u001b[0mproto\u001b[0m\u001b[0;34m.\u001b[0m\u001b[0mEND_COMMAND_PART\u001b[0m\u001b[0;34m\u001b[0m\u001b[0;34m\u001b[0m\u001b[0m\n\u001b[1;32m   1302\u001b[0m \u001b[0;34m\u001b[0m\u001b[0m\n\u001b[0;32m-> 1303\u001b[0;31m         \u001b[0manswer\u001b[0m \u001b[0;34m=\u001b[0m \u001b[0mself\u001b[0m\u001b[0;34m.\u001b[0m\u001b[0mgateway_client\u001b[0m\u001b[0;34m.\u001b[0m\u001b[0msend_command\u001b[0m\u001b[0;34m(\u001b[0m\u001b[0mcommand\u001b[0m\u001b[0;34m)\u001b[0m\u001b[0;34m\u001b[0m\u001b[0;34m\u001b[0m\u001b[0m\n\u001b[0m\u001b[1;32m   1304\u001b[0m         return_value = get_return_value(\n\u001b[1;32m   1305\u001b[0m             answer, self.gateway_client, self.target_id, self.name)\n",
      "\u001b[0;32m/opt/conda/lib/python3.9/site-packages/py4j/java_gateway.py\u001b[0m in \u001b[0;36msend_command\u001b[0;34m(self, command, retry, binary)\u001b[0m\n\u001b[1;32m   1031\u001b[0m         \u001b[0mconnection\u001b[0m \u001b[0;34m=\u001b[0m \u001b[0mself\u001b[0m\u001b[0;34m.\u001b[0m\u001b[0m_get_connection\u001b[0m\u001b[0;34m(\u001b[0m\u001b[0;34m)\u001b[0m\u001b[0;34m\u001b[0m\u001b[0;34m\u001b[0m\u001b[0m\n\u001b[1;32m   1032\u001b[0m         \u001b[0;32mtry\u001b[0m\u001b[0;34m:\u001b[0m\u001b[0;34m\u001b[0m\u001b[0;34m\u001b[0m\u001b[0m\n\u001b[0;32m-> 1033\u001b[0;31m             \u001b[0mresponse\u001b[0m \u001b[0;34m=\u001b[0m \u001b[0mconnection\u001b[0m\u001b[0;34m.\u001b[0m\u001b[0msend_command\u001b[0m\u001b[0;34m(\u001b[0m\u001b[0mcommand\u001b[0m\u001b[0;34m)\u001b[0m\u001b[0;34m\u001b[0m\u001b[0;34m\u001b[0m\u001b[0m\n\u001b[0m\u001b[1;32m   1034\u001b[0m             \u001b[0;32mif\u001b[0m \u001b[0mbinary\u001b[0m\u001b[0;34m:\u001b[0m\u001b[0;34m\u001b[0m\u001b[0;34m\u001b[0m\u001b[0m\n\u001b[1;32m   1035\u001b[0m                 \u001b[0;32mreturn\u001b[0m \u001b[0mresponse\u001b[0m\u001b[0;34m,\u001b[0m \u001b[0mself\u001b[0m\u001b[0;34m.\u001b[0m\u001b[0m_create_connection_guard\u001b[0m\u001b[0;34m(\u001b[0m\u001b[0mconnection\u001b[0m\u001b[0;34m)\u001b[0m\u001b[0;34m\u001b[0m\u001b[0;34m\u001b[0m\u001b[0m\n",
      "\u001b[0;32m/opt/conda/lib/python3.9/site-packages/py4j/java_gateway.py\u001b[0m in \u001b[0;36msend_command\u001b[0;34m(self, command)\u001b[0m\n\u001b[1;32m   1198\u001b[0m \u001b[0;34m\u001b[0m\u001b[0m\n\u001b[1;32m   1199\u001b[0m         \u001b[0;32mtry\u001b[0m\u001b[0;34m:\u001b[0m\u001b[0;34m\u001b[0m\u001b[0;34m\u001b[0m\u001b[0m\n\u001b[0;32m-> 1200\u001b[0;31m             \u001b[0manswer\u001b[0m \u001b[0;34m=\u001b[0m \u001b[0msmart_decode\u001b[0m\u001b[0;34m(\u001b[0m\u001b[0mself\u001b[0m\u001b[0;34m.\u001b[0m\u001b[0mstream\u001b[0m\u001b[0;34m.\u001b[0m\u001b[0mreadline\u001b[0m\u001b[0;34m(\u001b[0m\u001b[0;34m)\u001b[0m\u001b[0;34m[\u001b[0m\u001b[0;34m:\u001b[0m\u001b[0;34m-\u001b[0m\u001b[0;36m1\u001b[0m\u001b[0;34m]\u001b[0m\u001b[0;34m)\u001b[0m\u001b[0;34m\u001b[0m\u001b[0;34m\u001b[0m\u001b[0m\n\u001b[0m\u001b[1;32m   1201\u001b[0m             \u001b[0mlogger\u001b[0m\u001b[0;34m.\u001b[0m\u001b[0mdebug\u001b[0m\u001b[0;34m(\u001b[0m\u001b[0;34m\"Answer received: {0}\"\u001b[0m\u001b[0;34m.\u001b[0m\u001b[0mformat\u001b[0m\u001b[0;34m(\u001b[0m\u001b[0manswer\u001b[0m\u001b[0;34m)\u001b[0m\u001b[0;34m)\u001b[0m\u001b[0;34m\u001b[0m\u001b[0;34m\u001b[0m\u001b[0m\n\u001b[1;32m   1202\u001b[0m             \u001b[0;32mif\u001b[0m \u001b[0manswer\u001b[0m\u001b[0;34m.\u001b[0m\u001b[0mstartswith\u001b[0m\u001b[0;34m(\u001b[0m\u001b[0mproto\u001b[0m\u001b[0;34m.\u001b[0m\u001b[0mRETURN_MESSAGE\u001b[0m\u001b[0;34m)\u001b[0m\u001b[0;34m:\u001b[0m\u001b[0;34m\u001b[0m\u001b[0;34m\u001b[0m\u001b[0m\n",
      "\u001b[0;32m/opt/conda/lib/python3.9/socket.py\u001b[0m in \u001b[0;36mreadinto\u001b[0;34m(self, b)\u001b[0m\n\u001b[1;32m    702\u001b[0m         \u001b[0;32mwhile\u001b[0m \u001b[0;32mTrue\u001b[0m\u001b[0;34m:\u001b[0m\u001b[0;34m\u001b[0m\u001b[0;34m\u001b[0m\u001b[0m\n\u001b[1;32m    703\u001b[0m             \u001b[0;32mtry\u001b[0m\u001b[0;34m:\u001b[0m\u001b[0;34m\u001b[0m\u001b[0;34m\u001b[0m\u001b[0m\n\u001b[0;32m--> 704\u001b[0;31m                 \u001b[0;32mreturn\u001b[0m \u001b[0mself\u001b[0m\u001b[0;34m.\u001b[0m\u001b[0m_sock\u001b[0m\u001b[0;34m.\u001b[0m\u001b[0mrecv_into\u001b[0m\u001b[0;34m(\u001b[0m\u001b[0mb\u001b[0m\u001b[0;34m)\u001b[0m\u001b[0;34m\u001b[0m\u001b[0;34m\u001b[0m\u001b[0m\n\u001b[0m\u001b[1;32m    705\u001b[0m             \u001b[0;32mexcept\u001b[0m \u001b[0mtimeout\u001b[0m\u001b[0;34m:\u001b[0m\u001b[0;34m\u001b[0m\u001b[0;34m\u001b[0m\u001b[0m\n\u001b[1;32m    706\u001b[0m                 \u001b[0mself\u001b[0m\u001b[0;34m.\u001b[0m\u001b[0m_timeout_occurred\u001b[0m \u001b[0;34m=\u001b[0m \u001b[0;32mTrue\u001b[0m\u001b[0;34m\u001b[0m\u001b[0;34m\u001b[0m\u001b[0m\n",
      "\u001b[0;31mKeyboardInterrupt\u001b[0m: "
     ]
    }
   ],
   "source": [
    "dff.cache()\n",
    "dff = dff.toPandas()"
   ]
  },
  {
   "cell_type": "code",
   "execution_count": null,
   "id": "09385051-0791-4b3f-af67-2b99225c0b1d",
   "metadata": {},
   "outputs": [],
   "source": [
    "dff.shape"
   ]
  },
  {
   "cell_type": "code",
   "execution_count": 24,
   "id": "a302bce8-bf5c-4feb-8c69-1294712294d6",
   "metadata": {},
   "outputs": [
    {
     "data": {
      "text/plain": [
       "Row(impression_id='CLa9UKph1qSJHaQLE_G-kyoZmbi0L_WrsanMhUHIyrw', impression_datetime=datetime.datetime(2021, 8, 1, 5, 33, 44), global_token='09aec082-298e3-362a1-1fef1-101a9a3681f5c', page_domain='www.tasnimnews.com', page_path='/fa/news/1393/08/30/552239/%D8%B3%D9%81%D8%B1%D9%87-%D8%A7%DB%8C-%D8%A8%D9%87-%D9%88%D8%B3%D8%B9%D8%AA-%D8%AD%D8%AC-%D9%81%D9%82%D8%B1%D8%A7-%D8%AF%D9%84%DB%8C-%DA%A9%D9%87-%D8%A8%D8%B1%D8%A7%DB%8C-%DB%8C%DA%A9-%D8%BA%D8%B0%D8%A7%DB%8C-%D8%AD%D8%B6%D8%B1%D8%AA-%D8%B9-%D9%85%DB%8C-%D8%AA%D9%BE%D8%AF', ad_id=297485, campaign_id=71070, advertiser_id=7170, position_id=14504, publisher_id=209, ssp='native', dsp='native', device='desktop', ip='80.191.203.92', bid=1, trueImpression_datetime=None, click_datetime=None, click_device=None, server_id=None, is_trueImpression=0, is_clicked=0, impression_date=datetime.date(2021, 8, 1))"
      ]
     },
     "execution_count": 24,
     "metadata": {},
     "output_type": "execute_result"
    }
   ],
   "source": [
    "df_imp.head()"
   ]
  },
  {
   "cell_type": "code",
   "execution_count": null,
   "id": "236dd615-7994-48e2-aaf6-bd7ce5e1d22f",
   "metadata": {},
   "outputs": [],
   "source": [
    "df_event = sc.read.parquet(*['hdfs://hdfs.hdfs/data/etl/analytics/events/app.analytics.ua.events.v1/year=2021/month=08/day=%d' % day for day in range(17,23)])"
   ]
  },
  {
   "cell_type": "code",
   "execution_count": 17,
   "id": "58d64494-fac5-4379-8c8d-cd106639daf0",
   "metadata": {},
   "outputs": [],
   "source": [
    "df_scrapper = sc.read.parquet('hdfs://hdfs.hdfs/data/etl/pg/scrapper/pg.scrapper.url-content/')\n",
    "df_scrapper = df_scrapper.select('id', 'url', 'title', 'description', 'domain')\n",
    "df_scrapper = df_scrapper.withColumn('text',\n",
    "    concat(col('title'), lit(\" \"), col('description'))).drop('title', 'description')"
   ]
  },
  {
   "cell_type": "code",
   "execution_count": 18,
   "id": "99621558-1895-411a-86b9-262fe8479b86",
   "metadata": {},
   "outputs": [
    {
     "data": {
      "text/plain": [
       "[Row(id=19199789, url='khabarvarzeshi.com/news/323038/%D8%AA%D9%88%D8%B5%DB%8C%D9%81-%DB%8C%DA%A9-%D8%B3%D8%AA%D8%A7%D8%B1%D9%87-%D8%A7%D8%B2-%D9%85%D8%B1%DA%AF-%D9%88-%D8%A2%D9%88%D8%A7%D8%B1%DA%AF%DB%8C-%D9%85%D8%B1%D8%AF%D9%85-%D8%AA%D8%B5%D9%88%D8%B1-%D9%86%D9%85%DB%8C-%DA%A9%D8%B1%D8%AF%D9%85-%DA%86%D9%86%DB%8C%D9%86-%D9%81%D8%A7%D8%AC%D8%B9%D9%87-%D8%A7%DB%8C', domain='khabarvarzeshi.com', text='توصیف یک ستاره از مرگ و آوارگی مردم تصور نمی کردم چنین فاجعه ای در کشورم رخ دهد کای هاورتس ستاره آلمانی چلسی از خرابی هایی که سیل در آلمان و در شهر زادگاه او ایجاد کرده حرف زده است ')]"
      ]
     },
     "execution_count": 18,
     "metadata": {},
     "output_type": "execute_result"
    }
   ],
   "source": [
    "df_scrapper.head(1)"
   ]
  },
  {
   "cell_type": "code",
   "execution_count": 19,
   "id": "da7f0f4f-0199-44b7-91e8-0583496d9b22",
   "metadata": {},
   "outputs": [],
   "source": [
    "from pyspark.sql.types import *"
   ]
  },
  {
   "cell_type": "code",
   "execution_count": 20,
   "id": "3b498fbc-14e7-4aa7-a16d-f73185a0d016",
   "metadata": {},
   "outputs": [],
   "source": [
    "from pyspark.sql.functions import udf\n",
    "\n",
    "udf_clean = udf(clean_text, StringType()) "
   ]
  },
  {
   "cell_type": "code",
   "execution_count": 21,
   "id": "452bde00-c78a-4572-8c11-bef7c3ae1767",
   "metadata": {},
   "outputs": [],
   "source": [
    "df_scrapper = df_scrapper.withColumn('cleaned', udf_clean('text'))"
   ]
  },
  {
   "cell_type": "code",
   "execution_count": 22,
   "id": "3bac86b0-f420-4d29-8147-da7411f1ba19",
   "metadata": {},
   "outputs": [
    {
     "ename": "PythonException",
     "evalue": "\n  An exception was thrown from the Python worker. Please see the stack trace below.\nTraceback (most recent call last):\n  File \"/usr/local/spark/python/lib/pyspark.zip/pyspark/worker.py\", line 588, in main\n    func, profiler, deserializer, serializer = read_udfs(pickleSer, infile, eval_type)\n  File \"/usr/local/spark/python/lib/pyspark.zip/pyspark/worker.py\", line 447, in read_udfs\n    udfs.append(read_single_udf(pickleSer, infile, eval_type, runner_conf, udf_index=i))\n  File \"/usr/local/spark/python/lib/pyspark.zip/pyspark/worker.py\", line 249, in read_single_udf\n    f, return_type = read_command(pickleSer, infile)\n  File \"/usr/local/spark/python/lib/pyspark.zip/pyspark/worker.py\", line 69, in read_command\n    command = serializer._read_with_length(file)\n  File \"/usr/local/spark/python/lib/pyspark.zip/pyspark/serializers.py\", line 160, in _read_with_length\n    return self.loads(obj)\n  File \"/usr/local/spark/python/lib/pyspark.zip/pyspark/serializers.py\", line 430, in loads\n    return pickle.loads(obj, encoding=encoding)\nModuleNotFoundError: No module named 'hazm'\n",
     "output_type": "error",
     "traceback": [
      "\u001b[0;31m---------------------------------------------------------------------------\u001b[0m",
      "\u001b[0;31mPythonException\u001b[0m                           Traceback (most recent call last)",
      "\u001b[0;32m<ipython-input-22-8cd52c49cc64>\u001b[0m in \u001b[0;36m<module>\u001b[0;34m\u001b[0m\n\u001b[0;32m----> 1\u001b[0;31m \u001b[0mdf_scrapper\u001b[0m\u001b[0;34m.\u001b[0m\u001b[0mhead\u001b[0m\u001b[0;34m(\u001b[0m\u001b[0;34m)\u001b[0m\u001b[0;34m\u001b[0m\u001b[0;34m\u001b[0m\u001b[0m\n\u001b[0m",
      "\u001b[0;32m/opt/conda/lib/python3.9/site-packages/pyspark/sql/dataframe.py\u001b[0m in \u001b[0;36mhead\u001b[0;34m(self, n)\u001b[0m\n\u001b[1;32m   1585\u001b[0m         \"\"\"\n\u001b[1;32m   1586\u001b[0m         \u001b[0;32mif\u001b[0m \u001b[0mn\u001b[0m \u001b[0;32mis\u001b[0m \u001b[0;32mNone\u001b[0m\u001b[0;34m:\u001b[0m\u001b[0;34m\u001b[0m\u001b[0;34m\u001b[0m\u001b[0m\n\u001b[0;32m-> 1587\u001b[0;31m             \u001b[0mrs\u001b[0m \u001b[0;34m=\u001b[0m \u001b[0mself\u001b[0m\u001b[0;34m.\u001b[0m\u001b[0mhead\u001b[0m\u001b[0;34m(\u001b[0m\u001b[0;36m1\u001b[0m\u001b[0;34m)\u001b[0m\u001b[0;34m\u001b[0m\u001b[0;34m\u001b[0m\u001b[0m\n\u001b[0m\u001b[1;32m   1588\u001b[0m             \u001b[0;32mreturn\u001b[0m \u001b[0mrs\u001b[0m\u001b[0;34m[\u001b[0m\u001b[0;36m0\u001b[0m\u001b[0;34m]\u001b[0m \u001b[0;32mif\u001b[0m \u001b[0mrs\u001b[0m \u001b[0;32melse\u001b[0m \u001b[0;32mNone\u001b[0m\u001b[0;34m\u001b[0m\u001b[0;34m\u001b[0m\u001b[0m\n\u001b[1;32m   1589\u001b[0m         \u001b[0;32mreturn\u001b[0m \u001b[0mself\u001b[0m\u001b[0;34m.\u001b[0m\u001b[0mtake\u001b[0m\u001b[0;34m(\u001b[0m\u001b[0mn\u001b[0m\u001b[0;34m)\u001b[0m\u001b[0;34m\u001b[0m\u001b[0;34m\u001b[0m\u001b[0m\n",
      "\u001b[0;32m/opt/conda/lib/python3.9/site-packages/pyspark/sql/dataframe.py\u001b[0m in \u001b[0;36mhead\u001b[0;34m(self, n)\u001b[0m\n\u001b[1;32m   1587\u001b[0m             \u001b[0mrs\u001b[0m \u001b[0;34m=\u001b[0m \u001b[0mself\u001b[0m\u001b[0;34m.\u001b[0m\u001b[0mhead\u001b[0m\u001b[0;34m(\u001b[0m\u001b[0;36m1\u001b[0m\u001b[0;34m)\u001b[0m\u001b[0;34m\u001b[0m\u001b[0;34m\u001b[0m\u001b[0m\n\u001b[1;32m   1588\u001b[0m             \u001b[0;32mreturn\u001b[0m \u001b[0mrs\u001b[0m\u001b[0;34m[\u001b[0m\u001b[0;36m0\u001b[0m\u001b[0;34m]\u001b[0m \u001b[0;32mif\u001b[0m \u001b[0mrs\u001b[0m \u001b[0;32melse\u001b[0m \u001b[0;32mNone\u001b[0m\u001b[0;34m\u001b[0m\u001b[0;34m\u001b[0m\u001b[0m\n\u001b[0;32m-> 1589\u001b[0;31m         \u001b[0;32mreturn\u001b[0m \u001b[0mself\u001b[0m\u001b[0;34m.\u001b[0m\u001b[0mtake\u001b[0m\u001b[0;34m(\u001b[0m\u001b[0mn\u001b[0m\u001b[0;34m)\u001b[0m\u001b[0;34m\u001b[0m\u001b[0;34m\u001b[0m\u001b[0m\n\u001b[0m\u001b[1;32m   1590\u001b[0m \u001b[0;34m\u001b[0m\u001b[0m\n\u001b[1;32m   1591\u001b[0m     \u001b[0;32mdef\u001b[0m \u001b[0mfirst\u001b[0m\u001b[0;34m(\u001b[0m\u001b[0mself\u001b[0m\u001b[0;34m)\u001b[0m\u001b[0;34m:\u001b[0m\u001b[0;34m\u001b[0m\u001b[0;34m\u001b[0m\u001b[0m\n",
      "\u001b[0;32m/opt/conda/lib/python3.9/site-packages/pyspark/sql/dataframe.py\u001b[0m in \u001b[0;36mtake\u001b[0;34m(self, num)\u001b[0m\n\u001b[1;32m    726\u001b[0m         \u001b[0;34m[\u001b[0m\u001b[0mRow\u001b[0m\u001b[0;34m(\u001b[0m\u001b[0mage\u001b[0m\u001b[0;34m=\u001b[0m\u001b[0;36m2\u001b[0m\u001b[0;34m,\u001b[0m \u001b[0mname\u001b[0m\u001b[0;34m=\u001b[0m\u001b[0;34m'Alice'\u001b[0m\u001b[0;34m)\u001b[0m\u001b[0;34m,\u001b[0m \u001b[0mRow\u001b[0m\u001b[0;34m(\u001b[0m\u001b[0mage\u001b[0m\u001b[0;34m=\u001b[0m\u001b[0;36m5\u001b[0m\u001b[0;34m,\u001b[0m \u001b[0mname\u001b[0m\u001b[0;34m=\u001b[0m\u001b[0;34m'Bob'\u001b[0m\u001b[0;34m)\u001b[0m\u001b[0;34m]\u001b[0m\u001b[0;34m\u001b[0m\u001b[0;34m\u001b[0m\u001b[0m\n\u001b[1;32m    727\u001b[0m         \"\"\"\n\u001b[0;32m--> 728\u001b[0;31m         \u001b[0;32mreturn\u001b[0m \u001b[0mself\u001b[0m\u001b[0;34m.\u001b[0m\u001b[0mlimit\u001b[0m\u001b[0;34m(\u001b[0m\u001b[0mnum\u001b[0m\u001b[0;34m)\u001b[0m\u001b[0;34m.\u001b[0m\u001b[0mcollect\u001b[0m\u001b[0;34m(\u001b[0m\u001b[0;34m)\u001b[0m\u001b[0;34m\u001b[0m\u001b[0;34m\u001b[0m\u001b[0m\n\u001b[0m\u001b[1;32m    729\u001b[0m \u001b[0;34m\u001b[0m\u001b[0m\n\u001b[1;32m    730\u001b[0m     \u001b[0;32mdef\u001b[0m \u001b[0mtail\u001b[0m\u001b[0;34m(\u001b[0m\u001b[0mself\u001b[0m\u001b[0;34m,\u001b[0m \u001b[0mnum\u001b[0m\u001b[0;34m)\u001b[0m\u001b[0;34m:\u001b[0m\u001b[0;34m\u001b[0m\u001b[0;34m\u001b[0m\u001b[0m\n",
      "\u001b[0;32m/opt/conda/lib/python3.9/site-packages/pyspark/sql/dataframe.py\u001b[0m in \u001b[0;36mcollect\u001b[0;34m(self)\u001b[0m\n\u001b[1;32m    675\u001b[0m         \"\"\"\n\u001b[1;32m    676\u001b[0m         \u001b[0;32mwith\u001b[0m \u001b[0mSCCallSiteSync\u001b[0m\u001b[0;34m(\u001b[0m\u001b[0mself\u001b[0m\u001b[0;34m.\u001b[0m\u001b[0m_sc\u001b[0m\u001b[0;34m)\u001b[0m \u001b[0;32mas\u001b[0m \u001b[0mcss\u001b[0m\u001b[0;34m:\u001b[0m\u001b[0;34m\u001b[0m\u001b[0;34m\u001b[0m\u001b[0m\n\u001b[0;32m--> 677\u001b[0;31m             \u001b[0msock_info\u001b[0m \u001b[0;34m=\u001b[0m \u001b[0mself\u001b[0m\u001b[0;34m.\u001b[0m\u001b[0m_jdf\u001b[0m\u001b[0;34m.\u001b[0m\u001b[0mcollectToPython\u001b[0m\u001b[0;34m(\u001b[0m\u001b[0;34m)\u001b[0m\u001b[0;34m\u001b[0m\u001b[0;34m\u001b[0m\u001b[0m\n\u001b[0m\u001b[1;32m    678\u001b[0m         \u001b[0;32mreturn\u001b[0m \u001b[0mlist\u001b[0m\u001b[0;34m(\u001b[0m\u001b[0m_load_from_socket\u001b[0m\u001b[0;34m(\u001b[0m\u001b[0msock_info\u001b[0m\u001b[0;34m,\u001b[0m \u001b[0mBatchedSerializer\u001b[0m\u001b[0;34m(\u001b[0m\u001b[0mPickleSerializer\u001b[0m\u001b[0;34m(\u001b[0m\u001b[0;34m)\u001b[0m\u001b[0;34m)\u001b[0m\u001b[0;34m)\u001b[0m\u001b[0;34m)\u001b[0m\u001b[0;34m\u001b[0m\u001b[0;34m\u001b[0m\u001b[0m\n\u001b[1;32m    679\u001b[0m \u001b[0;34m\u001b[0m\u001b[0m\n",
      "\u001b[0;32m/opt/conda/lib/python3.9/site-packages/py4j/java_gateway.py\u001b[0m in \u001b[0;36m__call__\u001b[0;34m(self, *args)\u001b[0m\n\u001b[1;32m   1302\u001b[0m \u001b[0;34m\u001b[0m\u001b[0m\n\u001b[1;32m   1303\u001b[0m         \u001b[0manswer\u001b[0m \u001b[0;34m=\u001b[0m \u001b[0mself\u001b[0m\u001b[0;34m.\u001b[0m\u001b[0mgateway_client\u001b[0m\u001b[0;34m.\u001b[0m\u001b[0msend_command\u001b[0m\u001b[0;34m(\u001b[0m\u001b[0mcommand\u001b[0m\u001b[0;34m)\u001b[0m\u001b[0;34m\u001b[0m\u001b[0;34m\u001b[0m\u001b[0m\n\u001b[0;32m-> 1304\u001b[0;31m         return_value = get_return_value(\n\u001b[0m\u001b[1;32m   1305\u001b[0m             answer, self.gateway_client, self.target_id, self.name)\n\u001b[1;32m   1306\u001b[0m \u001b[0;34m\u001b[0m\u001b[0m\n",
      "\u001b[0;32m/opt/conda/lib/python3.9/site-packages/pyspark/sql/utils.py\u001b[0m in \u001b[0;36mdeco\u001b[0;34m(*a, **kw)\u001b[0m\n\u001b[1;32m    115\u001b[0m                 \u001b[0;31m# Hide where the exception came from that shows a non-Pythonic\u001b[0m\u001b[0;34m\u001b[0m\u001b[0;34m\u001b[0m\u001b[0;34m\u001b[0m\u001b[0m\n\u001b[1;32m    116\u001b[0m                 \u001b[0;31m# JVM exception message.\u001b[0m\u001b[0;34m\u001b[0m\u001b[0;34m\u001b[0m\u001b[0;34m\u001b[0m\u001b[0m\n\u001b[0;32m--> 117\u001b[0;31m                 \u001b[0;32mraise\u001b[0m \u001b[0mconverted\u001b[0m \u001b[0;32mfrom\u001b[0m \u001b[0;32mNone\u001b[0m\u001b[0;34m\u001b[0m\u001b[0;34m\u001b[0m\u001b[0m\n\u001b[0m\u001b[1;32m    118\u001b[0m             \u001b[0;32melse\u001b[0m\u001b[0;34m:\u001b[0m\u001b[0;34m\u001b[0m\u001b[0;34m\u001b[0m\u001b[0m\n\u001b[1;32m    119\u001b[0m                 \u001b[0;32mraise\u001b[0m\u001b[0;34m\u001b[0m\u001b[0;34m\u001b[0m\u001b[0m\n",
      "\u001b[0;31mPythonException\u001b[0m: \n  An exception was thrown from the Python worker. Please see the stack trace below.\nTraceback (most recent call last):\n  File \"/usr/local/spark/python/lib/pyspark.zip/pyspark/worker.py\", line 588, in main\n    func, profiler, deserializer, serializer = read_udfs(pickleSer, infile, eval_type)\n  File \"/usr/local/spark/python/lib/pyspark.zip/pyspark/worker.py\", line 447, in read_udfs\n    udfs.append(read_single_udf(pickleSer, infile, eval_type, runner_conf, udf_index=i))\n  File \"/usr/local/spark/python/lib/pyspark.zip/pyspark/worker.py\", line 249, in read_single_udf\n    f, return_type = read_command(pickleSer, infile)\n  File \"/usr/local/spark/python/lib/pyspark.zip/pyspark/worker.py\", line 69, in read_command\n    command = serializer._read_with_length(file)\n  File \"/usr/local/spark/python/lib/pyspark.zip/pyspark/serializers.py\", line 160, in _read_with_length\n    return self.loads(obj)\n  File \"/usr/local/spark/python/lib/pyspark.zip/pyspark/serializers.py\", line 430, in loads\n    return pickle.loads(obj, encoding=encoding)\nModuleNotFoundError: No module named 'hazm'\n"
     ]
    }
   ],
   "source": [
    "df_scrapper.head()"
   ]
  },
  {
   "cell_type": "code",
   "execution_count": 1,
   "id": "d1916433-37c7-4c80-a3fa-5f7c75feb640",
   "metadata": {},
   "outputs": [
    {
     "name": "stdout",
     "output_type": "stream",
     "text": [
      "/opt/conda/bin/python\n"
     ]
    }
   ],
   "source": [
    "!which python"
   ]
  },
  {
   "cell_type": "markdown",
   "id": "71a7deec-482e-4bb4-8e75-468bc5d61d70",
   "metadata": {},
   "source": [
    "## URL embedding"
   ]
  },
  {
   "cell_type": "code",
   "execution_count": null,
   "id": "725600eb-04ce-4dc8-87b8-b671dff97799",
   "metadata": {},
   "outputs": [],
   "source": [
    "udf_emb = udf(embed_query, ArrayType(FloatType())) "
   ]
  },
  {
   "cell_type": "code",
   "execution_count": null,
   "id": "19988ee1-b0e2-4d69-bfce-701f26c4eecd",
   "metadata": {},
   "outputs": [],
   "source": [
    "df_scrapper = df_scrapper.withColumn('emb', udf_emb('text'))"
   ]
  },
  {
   "cell_type": "code",
   "execution_count": null,
   "id": "0dde4750-b2a7-4c35-add1-401c8834d99c",
   "metadata": {
    "tags": []
   },
   "outputs": [],
   "source": [
    "df_scrapper.head(1)"
   ]
  },
  {
   "cell_type": "markdown",
   "id": "a96a060c-43ce-4b5f-987a-340adad9b21d",
   "metadata": {},
   "source": [
    "## Merge Everything"
   ]
  },
  {
   "cell_type": "code",
   "execution_count": null,
   "id": "1d3f1ffa-0d7b-4a08-b499-96c1f6fcec14",
   "metadata": {},
   "outputs": [],
   "source": [
    "udf_url = udf(\n",
    "    (lambda x,y: x+y),\n",
    "    StringType()) "
   ]
  },
  {
   "cell_type": "code",
   "execution_count": null,
   "id": "55f4f439-493d-43fa-a606-e3f9d21f700d",
   "metadata": {},
   "outputs": [],
   "source": [
    "df_imp = df_imp.withColumn('url', udf_url('page_domain', 'page_path'))"
   ]
  },
  {
   "cell_type": "code",
   "execution_count": null,
   "id": "f4d52402-a644-4acd-9d66-bdc00a91cb6d",
   "metadata": {},
   "outputs": [],
   "source": [
    "df_imp.head(1)"
   ]
  },
  {
   "cell_type": "code",
   "execution_count": null,
   "id": "f46c9503-3303-48b7-8313-f21549bbedbf",
   "metadata": {},
   "outputs": [],
   "source": [
    "df_imp = df_imp.select('url', 'campaign_id', 'is_clicked', 'is_trueImpression')"
   ]
  },
  {
   "cell_type": "code",
   "execution_count": null,
   "id": "d0ca1658-4818-4bb5-a904-5e6305647106",
   "metadata": {},
   "outputs": [],
   "source": [
    "df_imp.head()"
   ]
  },
  {
   "cell_type": "code",
   "execution_count": null,
   "id": "257c8aa6-c6de-4690-95ae-80bd2b8b417e",
   "metadata": {},
   "outputs": [],
   "source": []
  },
  {
   "cell_type": "code",
   "execution_count": null,
   "id": "4c6f2763-440e-46cd-9473-dc8e5e334680",
   "metadata": {},
   "outputs": [],
   "source": [
    "len(final_df)"
   ]
  },
  {
   "cell_type": "code",
   "execution_count": null,
   "id": "06b7601b-a37f-4737-b13e-1a845df805ad",
   "metadata": {},
   "outputs": [],
   "source": [
    "final_df = df_imp.join(df_scrapper, on='url')"
   ]
  },
  {
   "cell_type": "code",
   "execution_count": null,
   "id": "fd2a198b-faac-4279-a5d1-54c75e5fc070",
   "metadata": {},
   "outputs": [],
   "source": [
    "df_imp.count()"
   ]
  },
  {
   "cell_type": "code",
   "execution_count": null,
   "id": "4be8833f-4e08-4180-90c3-53fe2a1c87ed",
   "metadata": {},
   "outputs": [],
   "source": [
    "final_df.write.format(\"parquet\").save(\"hdfs://hdfs.hdfs:/qasem_data/imp_clk_semantic/imp_agg_data\")"
   ]
  },
  {
   "cell_type": "code",
   "execution_count": null,
   "id": "1399fb85-4167-47b7-8744-3a243cfc0a75",
   "metadata": {},
   "outputs": [],
   "source": []
  }
 ],
 "metadata": {
  "kernelspec": {
   "display_name": "Python 3 (ipykernel)",
   "language": "python",
   "name": "python3"
  },
  "language_info": {
   "codemirror_mode": {
    "name": "ipython",
    "version": 3
   },
   "file_extension": ".py",
   "mimetype": "text/x-python",
   "name": "python",
   "nbconvert_exporter": "python",
   "pygments_lexer": "ipython3",
   "version": "3.9.4"
  }
 },
 "nbformat": 4,
 "nbformat_minor": 5
}
